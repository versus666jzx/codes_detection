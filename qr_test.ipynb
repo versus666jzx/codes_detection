{
 "cells": [
  {
   "cell_type": "code",
   "execution_count": 2,
   "outputs": [],
   "source": [
    "import requests\n",
    "import cv2\n",
    "import base64\n",
    "import os\n",
    "import numpy as np\n",
    "from time import time"
   ],
   "metadata": {
    "collapsed": false,
    "pycharm": {
     "name": "#%%\n"
    }
   }
  },
  {
   "cell_type": "code",
   "execution_count": 5,
   "metadata": {
    "collapsed": true,
    "pycharm": {
     "name": "#%%\n"
    }
   },
   "outputs": [
    {
     "name": "stdout",
     "output_type": "stream",
     "text": [
      "{'response': 'no QR-code detect'}\n",
      "{'response': 'no QR-code detect'}\n",
      "{'response': 'no QR-code detect'}\n",
      "{'response': 'no QR-code detect'}\n",
      "{'response': 'no QR-code detect'}\n",
      "{'response': 'no QR-code detect'}\n",
      "Запросов в секунду: 3.0\n"
     ]
    }
   ],
   "source": [
    "r_count = 0\n",
    "secs = 1\n",
    "\n",
    "time_start = time()\n",
    "for resp in range(0, 9999999):\n",
    "    img_name = np.random.choice(os.listdir('./qr_codes'))\n",
    "    with open(fr'./qr_codes/img.png', 'rb') as img:\n",
    "        base64_img = base64.b64encode(img.read())\n",
    "        res = requests.post(url=f'http://188.127.249.25/decode_qr', data=base64_img).json()\n",
    "        print(res)\n",
    "        r_count += 1\n",
    "        resp_time = time()\n",
    "        if int(resp_time - time_start) > secs:\n",
    "            print(f'Запросов в секунду: {r_count / int(resp_time - time_start)}')\n",
    "            break"
   ]
  },
  {
   "cell_type": "code",
   "execution_count": 3,
   "outputs": [
    {
     "data": {
      "text/plain": "{'response': 't=20220601T1748&s=234.00&fn=9287440301168486&i=62110&fp=2981976636&n=1'}"
     },
     "execution_count": 3,
     "metadata": {},
     "output_type": "execute_result"
    }
   ],
   "source": [
    "with open(fr'./qr_codes/photo_2022-06-01_18-08-28.jpg', 'rb') as img:\n",
    "    base64_img = base64.b64encode(img.read())\n",
    "    res = requests.post(url=f'http://188.127.249.25/decode_qr', data=base64_img).json()\n",
    "\n",
    "res"
   ],
   "metadata": {
    "collapsed": false,
    "pycharm": {
     "name": "#%%\n"
    }
   }
  },
  {
   "cell_type": "code",
   "execution_count": 27,
   "outputs": [
    {
     "data": {
      "text/plain": "''"
     },
     "execution_count": 27,
     "metadata": {},
     "output_type": "execute_result"
    }
   ],
   "source": [
    "img = cv2.imread('qr_codes/img.jpg')\n",
    "detector = cv2.QRCodeDetector()\n",
    "# обнаружить и декодировать\n",
    "data, bbox, straight_qrcode = detector.detectAndDecode(img)\n",
    "data"
   ],
   "metadata": {
    "collapsed": false,
    "pycharm": {
     "name": "#%%\n"
    }
   }
  },
  {
   "cell_type": "code",
   "execution_count": 20,
   "outputs": [
    {
     "ename": "SyntaxError",
     "evalue": "Missing parentheses in call to 'print'. Did you mean print(...)? (qtqr.py, line 19)",
     "output_type": "error",
     "traceback": [
      "Traceback \u001B[1;36m(most recent call last)\u001B[0m:\n",
      "  File \u001B[0;32m~\\AppData\\Local\\Programs\\Python\\Python310\\lib\\site-packages\\IPython\\core\\interactiveshell.py:3397\u001B[0m in \u001B[0;35mrun_code\u001B[0m\n    exec(code_obj, self.user_global_ns, self.user_ns)\n",
      "\u001B[1;36m  Input \u001B[1;32mIn [20]\u001B[1;36m in \u001B[1;35m<cell line: 2>\u001B[1;36m\u001B[0m\n\u001B[1;33m    from qrtools.qtqr import QR\u001B[0m\n",
      "\u001B[1;36m  File \u001B[1;32m~\\AppData\\Local\\Programs\\Python\\Python310\\lib\\site-packages\\qrtools\\qtqr.py:19\u001B[1;36m\u001B[0m\n\u001B[1;33m    print \"DEBUG: There was a problem initializing the pynotify module\"\u001B[0m\n\u001B[1;37m    ^\u001B[0m\n\u001B[1;31mSyntaxError\u001B[0m\u001B[1;31m:\u001B[0m Missing parentheses in call to 'print'. Did you mean print(...)?\n"
     ]
    }
   ],
   "source": [
    "import os\n",
    "import numpy as np\n",
    "import pyboof as pb\n",
    "\n",
    "pb.init_memmap() #Optional\n",
    "\n",
    "class QR_Extractor:\n",
    "    # Src: github.com/lessthanoptimal/PyBoof/blob/master/examples/qrcode_detect.py\n",
    "    def __init__(self):\n",
    "        self.detector = pb.FactoryFiducial(np.uint8).qrcode()\n",
    "\n",
    "    def extract(self, img_path):\n",
    "        if not os.path.isfile(img_path):\n",
    "            print('File not found:', img_path)\n",
    "            return None\n",
    "        image = pb.load_single_band(img_path, np.uint8)\n",
    "        self.detector.detect(image)\n",
    "        qr_codes = []\n",
    "        for qr in self.detector.detections:\n",
    "            qr_codes.append({\n",
    "                'text': qr.message,\n",
    "                'points': qr.bounds.convert_tuple()\n",
    "            })\n",
    "        return qr_codes"
   ],
   "metadata": {
    "collapsed": false,
    "pycharm": {
     "name": "#%%\n"
    }
   }
  },
  {
   "cell_type": "code",
   "execution_count": 28,
   "outputs": [
    {
     "ename": "NameError",
     "evalue": "name 'QR_Extractor' is not defined",
     "output_type": "error",
     "traceback": [
      "\u001B[1;31m---------------------------------------------------------------------------\u001B[0m",
      "\u001B[1;31mNameError\u001B[0m                                 Traceback (most recent call last)",
      "Input \u001B[1;32mIn [28]\u001B[0m, in \u001B[0;36m<cell line: 1>\u001B[1;34m()\u001B[0m\n\u001B[1;32m----> 1\u001B[0m qr_scanner \u001B[38;5;241m=\u001B[39m \u001B[43mQR_Extractor\u001B[49m()\n\u001B[0;32m      2\u001B[0m output \u001B[38;5;241m=\u001B[39m qr_scanner\u001B[38;5;241m.\u001B[39mextract(\u001B[38;5;124m'\u001B[39m\u001B[38;5;124mqr_codes/img.jpg\u001B[39m\u001B[38;5;124m'\u001B[39m)\n\u001B[0;32m      3\u001B[0m \u001B[38;5;28mprint\u001B[39m(output)\n",
      "\u001B[1;31mNameError\u001B[0m: name 'QR_Extractor' is not defined"
     ]
    }
   ],
   "source": [
    "qr_scanner = QR_Extractor()\n",
    "output = qr_scanner.extract('qr_codes/img.jpg')\n",
    "print(output)"
   ],
   "metadata": {
    "collapsed": false,
    "pycharm": {
     "name": "#%%\n"
    }
   }
  }
 ],
 "metadata": {
  "kernelspec": {
   "display_name": "Python 3",
   "language": "python",
   "name": "python3"
  },
  "language_info": {
   "codemirror_mode": {
    "name": "ipython",
    "version": 2
   },
   "file_extension": ".py",
   "mimetype": "text/x-python",
   "name": "python",
   "nbconvert_exporter": "python",
   "pygments_lexer": "ipython2",
   "version": "2.7.6"
  }
 },
 "nbformat": 4,
 "nbformat_minor": 0
}