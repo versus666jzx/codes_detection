{
 "cells": [
  {
   "cell_type": "code",
   "execution_count": 14,
   "metadata": {
    "collapsed": true,
    "pycharm": {
     "name": "#%%\n"
    }
   },
   "outputs": [],
   "source": [
    "import pandas as pd\n",
    "import numpy as np\n",
    "\n",
    "import cv2\n",
    "import qrcode\n",
    "\n",
    "import matplotlib.pyplot as plt\n",
    "import os"
   ]
  },
  {
   "cell_type": "code",
   "execution_count": 40,
   "outputs": [
    {
     "name": "stdout",
     "output_type": "stream",
     "text": [
      "QR Code not detected \n",
      "QR Code not detected \n",
      "QR Code not detected \n",
      "QR Code not detected \n",
      "QR Code not detected \n",
      "QR Code not detected \n",
      "QR Code not detected \n",
      "QR Code not detected \n"
     ]
    }
   ],
   "source": [
    "path = 'qr_codes\\\\'\n",
    "for img in os.listdir(path):\n",
    "    img_path = path + img\n",
    "    l = cv2.imread(img_path)\n",
    "    qr = cv2.QRCodeDetector()\n",
    "    data, bbox, rectifiedImage = qr.detectAndDecode(l)\n",
    "    if len(data) > 0:\n",
    "        print(\"Decoded Data : {}\".format(data))\n",
    "        display(l, bbox)\n",
    "        rectifiedImage = np.uint8(rectifiedImage)\n",
    "        cv2.imshow(\"Rectified QRCode\", rectifiedImage)\n",
    "    else:\n",
    "        print(\"QR Code not detected \")\n",
    "        cv2.imshow(\"Results\", l)\n"
   ],
   "metadata": {
    "collapsed": false,
    "pycharm": {
     "name": "#%%\n"
    }
   }
  },
  {
   "cell_type": "code",
   "execution_count": 16,
   "outputs": [
    {
     "ename": "IndexError",
     "evalue": "list index out of range",
     "output_type": "error",
     "traceback": [
      "\u001B[1;31m---------------------------------------------------------------------------\u001B[0m",
      "\u001B[1;31mIndexError\u001B[0m                                Traceback (most recent call last)",
      "Input \u001B[1;32mIn [16]\u001B[0m, in \u001B[0;36m<cell line: 10>\u001B[1;34m()\u001B[0m\n\u001B[0;32m      8\u001B[0m qr_data \u001B[38;5;241m=\u001B[39m decodedText\u001B[38;5;241m.\u001B[39msplit(\u001B[38;5;124m'\u001B[39m\u001B[38;5;124m,\u001B[39m\u001B[38;5;124m'\u001B[39m)\n\u001B[0;32m      9\u001B[0m qr_size \u001B[38;5;241m=\u001B[39m qr_data[\u001B[38;5;241m0\u001B[39m]\n\u001B[1;32m---> 10\u001B[0m top \u001B[38;5;241m=\u001B[39m \u001B[43mqr_data\u001B[49m\u001B[43m[\u001B[49m\u001B[38;5;241;43m1\u001B[39;49m\u001B[43m]\u001B[49m\n\u001B[0;32m     11\u001B[0m right \u001B[38;5;241m=\u001B[39m qr_data[\u001B[38;5;241m2\u001B[39m]\n\u001B[0;32m     12\u001B[0m bottom \u001B[38;5;241m=\u001B[39m qr_data[\u001B[38;5;241m3\u001B[39m]\n",
      "\u001B[1;31mIndexError\u001B[0m: list index out of range"
     ]
    }
   ],
   "source": [
    "import cv2\n",
    "import math\n",
    "import qrcode\n",
    "\n",
    "\n",
    "\n",
    "\n",
    "image = cv2.imread(r'P:\\codes_detection\\qr_codes\\OgJFluMzPFk.jpg')\n",
    "\n",
    "qrCodeDetector = cv2.QRCodeDetector()\n",
    "decodedText, points, _ = qrCodeDetector.detectAndDecode(image)\n",
    "qr_data = decodedText.split(',')\n",
    "qr_size = qr_data[0]\n",
    "top = qr_data[1]\n",
    "right = qr_data[2]\n",
    "bottom = qr_data[3]\n",
    "left = qr_data[4]\n",
    "\n",
    "if points is not None:\n",
    "    pts = len(points)\n",
    "    print(pts)\n",
    "    for i in range(pts):\n",
    "        nextPointIndex = (i+1) % pts\n",
    "        cv2.line(image, tuple(points[i][0]), tuple(points[nextPointIndex][0]), (255,0,0), 5)\n",
    "        print(points[i][0])\n",
    "\n",
    "    width = int(math.sqrt((points[0][0][0]-points[1][0][0])**2 + (points[0][0][1]-points[1][0][1])**2))\n",
    "    height = int(math.sqrt((points[1][0][0]-points[2][0][0])**2 + (points[1][0][1]-points[2][0][1])**2))\n",
    "\n",
    "    # Compare the size\n",
    "    if(width==qr_data[0] and height==qr_data[0]):\n",
    "        print(\"Sizes are equal\")\n",
    "    else:\n",
    "        print(\"Width and height  \" + str(width) + \"x\" +  str(height) + \"  not equal to \"\n",
    "        + str(qr_data[0]) + \"x\" + str(qr_data[0]))\n",
    "\n",
    "    # Add the extension values to points and crop\n",
    "    y = int(points[0][0][1]) - int(qr_data[1])"
   ],
   "metadata": {
    "collapsed": false,
    "pycharm": {
     "name": "#%%\n"
    }
   }
  }
 ],
 "metadata": {
  "kernelspec": {
   "display_name": "Python 3",
   "language": "python",
   "name": "python3"
  },
  "language_info": {
   "codemirror_mode": {
    "name": "ipython",
    "version": 2
   },
   "file_extension": ".py",
   "mimetype": "text/x-python",
   "name": "python",
   "nbconvert_exporter": "python",
   "pygments_lexer": "ipython2",
   "version": "2.7.6"
  }
 },
 "nbformat": 4,
 "nbformat_minor": 0
}