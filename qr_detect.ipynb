{
 "cells": [
  {
   "cell_type": "code",
   "execution_count": 2,
   "metadata": {
    "collapsed": true,
    "pycharm": {
     "name": "#%%\n"
    }
   },
   "outputs": [],
   "source": [
    "import pandas as pd\n",
    "import numpy as np\n",
    "\n",
    "import cv2\n",
    "import qrcode\n",
    "\n",
    "import matplotlib.pyplot as plt\n",
    "import os"
   ]
  },
  {
   "cell_type": "code",
   "execution_count": null,
   "outputs": [],
   "source": [
    "import cv2\n",
    "img = cv2.imread(\"qr_codes/original.jpg\")\n",
    "gray = cv2.cvtColor(img, cv2.CALIB_CB_CLUSTERING)\n",
    "\n",
    "gradX = cv2.Sobel(gray, ddepth = cv2.CV_32F, dx = 1, dy = 0, ksize = -1)\n",
    "gradY = cv2.Sobel(gray, ddepth = cv2.CV_32F, dx = 0, dy = 1, ksize = -1)\n",
    "\n",
    "# subtract the y-gradient from the x-gradient\n",
    "gradient = cv2.subtract(gradX, gradY)\n",
    "gradient = cv2.convertScaleAbs(gradient)\n",
    "\n",
    "blurred = cv2.blur(gradient, (9, 9))\n",
    "(_, thresh) = cv2.threshold(blurred, 225, 255, cv2.THRESH_BINARY)\n",
    "kernel = cv2.getStructuringElement(cv2.MORPH_RECT, (21, 7))\n",
    "closed = cv2.morphologyEx(thresh, cv2.MORPH_CLOSE, kernel)\n",
    "closed = cv2.erode(closed, None, iterations = 4)\n",
    "closed = cv2.dilate(closed, None, iterations = 4)\n",
    "\n",
    "\n",
    "crop_img = closed[600:900, 300:600]\n",
    "\n",
    "plt.imshow(img)\n",
    "plt.show()\n",
    "\n",
    "plt.imshow(gray)\n",
    "plt.show()\n",
    "\n",
    "plt.imshow(crop_img)\n",
    "plt.show()\n",
    "\n",
    "plt.imshow(gradient)\n",
    "plt.show()"
   ],
   "metadata": {
    "collapsed": false,
    "pycharm": {
     "name": "#%%\n"
    }
   }
  },
  {
   "cell_type": "code",
   "execution_count": null,
   "outputs": [],
   "source": [
    "import cv2\n",
    "import numpy as np\n",
    "from pyzbar.pyzbar import decode\n",
    "\n",
    "def decoder(image: np.ndarray) -> str:\n",
    "    \"\"\"\n",
    "    Распознает QR с изображения в формате cv2\n",
    "    :param image: cv2 image\n",
    "    :return: str\n",
    "    \"\"\"\n",
    "    gray_img = cv2.cvtColor(image,0)\n",
    "    barcode = decode(gray_img)\n",
    "\n",
    "    for obj in barcode:\n",
    "        points = obj.polygon\n",
    "        pts = np.array(points, np.int32)\n",
    "        pts = pts.reshape((-1, 1, 2))\n",
    "        cv2.polylines(image, [pts], True, (0, 255, 0), 3)\n",
    "        barcodeData = obj.data.decode(\"utf-8\")\n",
    "        barcodeType = obj.type\n",
    "        # string = \"Data \" + str(barcodeData) + \" | Type \" + str(barcodeType)\n",
    "        # cv2.putText(frame, string, (x,y), cv2.FONT_HERSHEY_SIMPLEX,0.8,(255,0,0), 2)\n",
    "        print(\"Barcode: \" + barcodeData +\" | Type: \" + barcodeType)\n",
    "\n",
    "path = r\"C:/Users/HardWorkingStation/PyProjects/codes_detection/qr_codes/\"\n",
    "\n",
    "for img_name in os.listdir(path):\n",
    "    print(f'Картинка: {img_name}')\n",
    "    img_path = path + img_name\n",
    "    img = cv2.imread(img_path)\n",
    "    print(type(img))\n",
    "    break\n",
    "    decoder(img)"
   ],
   "metadata": {
    "collapsed": false,
    "pycharm": {
     "name": "#%%\n"
    }
   }
  },
  {
   "cell_type": "code",
   "execution_count": null,
   "outputs": [],
   "source": [
    "import requests\n",
    "import cv2\n",
    "import base64\n",
    "import os\n",
    "import numpy as np\n",
    "from time import time"
   ],
   "metadata": {
    "collapsed": false,
    "pycharm": {
     "name": "#%%\n"
    }
   }
  },
  {
   "cell_type": "code",
   "execution_count": null,
   "outputs": [],
   "source": [
    "r_count = 0\n",
    "secs = 1\n",
    "\n",
    "time_start = time()\n",
    "for resp in range(0, 9999999):\n",
    "    img_name = np.random.choice(os.listdir('./qr_codes'))\n",
    "    with open(fr'./qr_codes/{img_name}', 'rb') as img:\n",
    "        base64_img = base64.b64encode(img.read())\n",
    "        res = requests.post(url=f'http://188.127.249.25/decode_qr', data=base64_img).json()\n",
    "        print(res)\n",
    "        r_count += 1\n",
    "        resp_time = time()\n",
    "        if int(resp_time - time_start) > secs:\n",
    "            print(f'Запросов в секунду: {r_count / int(resp_time - time_start)}')\n",
    "            break"
   ],
   "metadata": {
    "collapsed": false,
    "pycharm": {
     "name": "#%%\n"
    }
   }
  },
  {
   "cell_type": "code",
   "execution_count": null,
   "outputs": [],
   "source": [
    "import requests\n",
    "import cv2\n",
    "import base64"
   ],
   "metadata": {
    "collapsed": false,
    "pycharm": {
     "name": "#%%\n"
    }
   }
  },
  {
   "cell_type": "code",
   "execution_count": null,
   "outputs": [],
   "source": [
    "with open(r'P:\\codes_detection\\qr_codes\\rotate.jpg', 'rb') as img:\n",
    "    base64_img = base64.b64encode(img.read())\n",
    "    res = requests.post(url=f'http://127.0.0.1/decode_qr', data=base64_img).json()\n",
    "    print(res)"
   ],
   "metadata": {
    "collapsed": false,
    "pycharm": {
     "name": "#%%\n"
    }
   }
  },
  {
   "cell_type": "code",
   "execution_count": null,
   "outputs": [],
   "source": [
    "import requests\n",
    "import cv2\n",
    "import base64"
   ],
   "metadata": {
    "collapsed": false,
    "pycharm": {
     "name": "#%%\n"
    }
   }
  },
  {
   "cell_type": "code",
   "execution_count": null,
   "outputs": [],
   "source": [
    "with open(r'P:\\codes_detection\\qr_codes\\rotate.jpg', 'rb') as img:\n",
    "    base64_img = base64.b64encode(img.read())\n",
    "    res = requests.post(url=f'http://127.0.0.1/decode_qr', data=base64_img).json()\n",
    "    print(res)"
   ],
   "metadata": {
    "collapsed": false,
    "pycharm": {
     "name": "#%%\n"
    }
   }
  },
  {
   "cell_type": "code",
   "execution_count": 12,
   "outputs": [],
   "source": [
    "import requests\n",
    "import cv2\n",
    "import base64"
   ],
   "metadata": {
    "collapsed": false,
    "pycharm": {
     "name": "#%%\n"
    }
   }
  },
  {
   "cell_type": "code",
   "execution_count": 304,
   "outputs": [
    {
     "name": "stdout",
     "output_type": "stream",
     "text": [
      "{'response': 'http://www.postalexperience.com/pos?mt=4&sc=840-5940-0041-004-00012-53774-02'}\n"
     ]
    }
   ],
   "source": [
    "with open(r'P:\\codes_detection\\qr_codes\\rotate.jpg', 'rb') as img:\n",
    "    base64_img = base64.b64encode(img.read())\n",
    "    res = requests.post(url=f'http://127.0.0.1/decode_qr', data=base64_img).json()\n",
    "    print(res)"
   ],
   "metadata": {
    "collapsed": false,
    "pycharm": {
     "name": "#%%\n"
    }
   }
  }
 ],
 "metadata": {
  "kernelspec": {
   "display_name": "Python 3",
   "language": "python",
   "name": "python3"
  },
  "language_info": {
   "codemirror_mode": {
    "name": "ipython",
    "version": 2
   },
   "file_extension": ".py",
   "mimetype": "text/x-python",
   "name": "python",
   "nbconvert_exporter": "python",
   "pygments_lexer": "ipython2",
   "version": "2.7.6"
  }
 },
 "nbformat": 4,
 "nbformat_minor": 0
}